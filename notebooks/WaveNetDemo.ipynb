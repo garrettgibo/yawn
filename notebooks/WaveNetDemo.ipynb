{
 "cells": [
  {
   "cell_type": "markdown",
   "metadata": {},
   "source": [
    "# WaveNetClone Demo\n",
    "\n",
    "This notebook contains a demo of the WaveNet clone that is created with from this project."
   ]
  }
 ],
 "metadata": {
  "language_info": {}
 },
 "nbformat": 4,
 "nbformat_minor": 5
}