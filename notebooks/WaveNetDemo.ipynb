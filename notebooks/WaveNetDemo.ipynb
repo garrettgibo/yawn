{
 "cells": [
  {
   "cell_type": "code",
   "execution_count": null,
   "metadata": {},
   "outputs": [],
   "source": [
    "%load_ext autoreload\n",
    "%autoreload 2"
   ]
  },
  {
   "cell_type": "markdown",
   "metadata": {},
   "source": [
    "# WaveNetClone Demo\n",
    "\n",
    "This notebook contains a demo of the WaveNet clone that is created with from this project."
   ]
  },
  {
   "cell_type": "code",
   "execution_count": null,
   "metadata": {},
   "outputs": [],
   "source": [
    "import sys\n",
    "sys.path.append(\"../\") # go to parent dir\n",
    "\n",
    "import wavenet.utils as utils\n",
    "from wavenet.modules import WaveNet\n",
    "from wavenet.utils.data import WAVData, WAVDataLoader"
   ]
  },
  {
   "cell_type": "markdown",
   "metadata": {},
   "source": [
    "### Configurations for stages of  demo"
   ]
  },
  {
   "cell_type": "code",
   "execution_count": null,
   "metadata": {},
   "outputs": [],
   "source": [
    "mp3_to_wav_cfg = {\n",
    "    \"input_folder\": \"../data/sample\",\n",
    "    \"sample_rate\": 16000\n",
    "}\n",
    "\n",
    "dataset_cfg = {\n",
    "    \"input_length\": 2e5,\n",
    "    \"output_length\": 1e5,\n",
    "    \"mu\": 255,\n",
    "    \"num_classes\": 256\n",
    "}\n",
    "    \n",
    "dataloader_cfg = {\n",
    "    \"batch_size\": 10,\n",
    "    \"shuffle\": True\n",
    "}\n",
    "\n",
    "\n",
    "model_cfg = {\n",
    "    \"in_channels\": 1,\n",
    "    \"res_channels\": 1\n",
    "}\n",
    "\n",
    "train_cfg = {\n",
    "    \"model_name\": \"wavenet\",\n",
    "    \"num_epochs\": 100,\n",
    "    \"learning_rate\": 0.001,\n",
    "    \"resume\": False,\n",
    "    \"checkpoint_path\": None,\n",
    "    \"save_every\": 5\n",
    "}\n"
   ]
  },
  {
   "cell_type": "markdown",
   "metadata": {},
   "source": [
    "### Convert mp3 directory to WAV directory"
   ]
  },
  {
   "cell_type": "code",
   "execution_count": null,
   "metadata": {},
   "outputs": [],
   "source": [
    "dataset_cfg[\"input_folder\"] = utils.convert_mp3_folder(**mp3_to_wav_cfg)"
   ]
  },
  {
   "cell_type": "markdown",
   "metadata": {},
   "source": [
    "### Create custom PyTorch dataset from WAV directory"
   ]
  },
  {
   "cell_type": "code",
   "execution_count": null,
   "metadata": {},
   "outputs": [],
   "source": [
    "dataloader_cfg[\"dataset\"] = WAVData(**dataset_cfg)"
   ]
  },
  {
   "cell_type": "markdown",
   "metadata": {},
   "source": [
    "### Create DataLoader from custom dataset"
   ]
  },
  {
   "cell_type": "code",
   "execution_count": null,
   "metadata": {},
   "outputs": [],
   "source": [
    "train_cfg[\"train_dataloader\"] = WAVDataLoader(**dataloader_cfg)"
   ]
  },
  {
   "cell_type": "markdown",
   "metadata": {},
   "source": [
    "### Create WaveNet Model"
   ]
  },
  {
   "cell_type": "code",
   "execution_count": null,
   "metadata": {},
   "outputs": [],
   "source": [
    "train_cfg[\"model\"] = WaveNet(**model_cfg)"
   ]
  },
  {
   "cell_type": "markdown",
   "metadata": {},
   "source": [
    "### Train Model"
   ]
  },
  {
   "cell_type": "code",
   "execution_count": null,
   "metadata": {},
   "outputs": [],
   "source": [
    "generator_cfg[\"model_path\"] = utils.train(**train_cfg)"
   ]
  }
 ],
 "metadata": {
  "kernelspec": {
   "display_name": "Python 3",
   "language": "python",
   "name": "python3"
  },
  "language_info": {
   "codemirror_mode": {
    "name": "ipython",
    "version": 3
   },
   "file_extension": ".py",
   "mimetype": "text/x-python",
   "name": "python",
   "nbconvert_exporter": "python",
   "pygments_lexer": "ipython3",
   "version": "3.8.6"
  }
 },
 "nbformat": 4,
 "nbformat_minor": 5
}
